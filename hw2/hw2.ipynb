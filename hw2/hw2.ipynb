{
 "cells": [
  {
   "cell_type": "markdown",
   "metadata": {},
   "source": [
    "### Машинное Обучения\n",
    "\n",
    "## Домашнее задание №2 - Дерево решений"
   ]
  },
  {
   "cell_type": "markdown",
   "metadata": {},
   "source": [
    "**Общая информация**\n",
    "\n",
    "**Срок сдачи:** 1 февраля 2023, 08:30   \n",
    "**Штраф за опоздание:** -2 балла за каждые 2 дня опоздания\n",
    "\n",
    "Решений залить в свой github репозиторий.\n",
    "\n",
    "Используйте данный Ipython Notebook при оформлении домашнего задания."
   ]
  },
  {
   "cell_type": "markdown",
   "metadata": {},
   "source": [
    "##  Реализуем дерево решений (3 балла)"
   ]
  },
  {
   "cell_type": "markdown",
   "metadata": {},
   "source": [
    "Допишите недостающие части дерева решений. Ваша реализация дерева должна работать по точности не хуже DecisionTreeClassifier из sklearn.\n",
    "Внимание: если Вас не устраивает предложенная структура хранения дерева, Вы без потери баллов можете сделать свой класс MyDecisionTreeClassifier, в котором сами полностью воспроизведете алгоритм дерева решений. Обязательно в нем иметь только функции fit, predict . (Но название класса не менять)"
   ]
  },
  {
   "cell_type": "code",
   "execution_count": 1,
   "metadata": {
    "tags": []
   },
   "outputs": [],
   "source": [
    "import matplotlib.pyplot as plt\n",
    "import numpy as np\n",
    "import pandas as pd\n",
    "\n",
    "from sklearn.datasets import load_wine\n",
    "from sklearn.ensemble import RandomForestClassifier\n",
    "from sklearn.metrics import accuracy_score, roc_auc_score\n",
    "from sklearn.model_selection import KFold, train_test_split, GridSearchCV, RandomizedSearchCV\n",
    "from sklearn.tree import DecisionTreeClassifier\n",
    "\n",
    "from numba import njit, prange, NumbaPendingDeprecationWarning\n",
    "from warnings import filterwarnings\n",
    "\n",
    "filterwarnings('ignore', category=NumbaPendingDeprecationWarning)"
   ]
  },
  {
   "cell_type": "code",
   "execution_count": 2,
   "metadata": {},
   "outputs": [],
   "source": [
    "@njit(nogil=True)\n",
    "def div_samples(x:np.ndarray, y:np.ndarray, feature_id:int, threshold:float):\n",
    "    \"\"\"\n",
    "    Разделяет объекты на 2 множества\n",
    "    x -- матрица объектов\n",
    "    y -- вектор ответов\n",
    "    feature_id -- айдишник признака, по которому делаем сплит\n",
    "    threshold -- порог, по которому делаем сплит\n",
    "    \"\"\"\n",
    "    left_mask = x[:, feature_id] > threshold\n",
    "    right_mask = ~left_mask\n",
    "    return x[left_mask], x[right_mask], y[left_mask], y[right_mask]\n",
    "\n",
    "@njit(nogil=True)\n",
    "def div_targets(x:np.ndarray, y:np.ndarray, feature_id:int, threshold:float):\n",
    "    \"\"\"\n",
    "    Разделяет ответы на 2 множества\n",
    "    x -- матрица объектов\n",
    "    y -- вектор ответов\n",
    "    feature_id -- айдишник признака, по которому делаем сплит\n",
    "    threshold -- порог, по которому делаем сплит\n",
    "    \"\"\"\n",
    "    left_mask = x[:, feature_id] > threshold\n",
    "    right_mask = ~left_mask\n",
    "    return y[left_mask], y[right_mask]\n",
    "    \n",
    "@njit(nogil=True)\n",
    "def gini_criterion(cnt, len_):\n",
    "    if(len_==0): return 1\n",
    "    return 1 - sum([(c/len_)**2 for c in cnt])\n",
    "    \n",
    "@njit(nogil=True)\n",
    "def entropy_criterion(cnt, len_):\n",
    "    if(len_==0): return 0\n",
    "    return -sum([c/len_*np.log(c/len_) for c in cnt])\n",
    "    \n",
    "@njit(nogil=True)\n",
    "def log_loss_criterion(cnt, len_):\n",
    "    if(len_==0): return 1\n",
    "    return 1 - cnt.max()/len_\n",
    "\n",
    "@njit(nogil=True)\n",
    "def find_threshold_njit(x, y, j, y_criterion, l_mem, r_mem, thresholds, counts):\n",
    "    l, r = l_mem.copy(), r_mem.copy()\n",
    "    len_l, len_r = 0, len(y)\n",
    "    mx_gain, mx_thr = 0, 0\n",
    "    whole_y = y_criterion(r, len(y))\n",
    "    # print(whole_y)\n",
    "            \n",
    "    for i in range(len(thresholds)):\n",
    "        threshold, target = thresholds[i]\n",
    "        target=int(target)\n",
    "        l[target]+=counts[i]\n",
    "        r[target]-=counts[i]\n",
    "        len_l += counts[i]\n",
    "        len_r -= counts[i]\n",
    "        if(i!=len(thresholds)-1 and thresholds[i+1][0]==threshold): continue\n",
    "        gain = -y_criterion(l, len_l)*len_l/len(y) - y_criterion(r, len_r)*len_r/len(y) + whole_y\n",
    "        # print(threshold, gain, len_l, len_r, l, r, thresholds, counts)\n",
    "        if(gain>mx_gain):\n",
    "            mx_gain = gain\n",
    "            mx_thr = threshold\n",
    "    return mx_gain, mx_thr\n",
    "\n",
    "@njit(nogil=True)\n",
    "def find_threshold_njit_loop(x, y, y_criterion, l_mem, r_mem, uniques):\n",
    "    mx_gain, mx_j, mx_thr = -1, 0, 0\n",
    "    for j in range(x.shape[1]):\n",
    "        thresholds, counts = uniques[j]\n",
    "        gain, threshold = find_threshold_njit(x, y, j, y_criterion, l_mem, r_mem, thresholds, counts)\n",
    "        if(gain>mx_gain):\n",
    "            mx_gain = gain\n",
    "            mx_j = j\n",
    "            mx_thr = threshold\n",
    "    return mx_gain, mx_j, mx_thr"
   ]
  },
  {
   "cell_type": "code",
   "execution_count": 3,
   "metadata": {
    "tags": []
   },
   "outputs": [],
   "source": [
    "class MyDecisionTreeClassifier:\n",
    "    NON_LEAF_TYPE = 0\n",
    "    LEAF_TYPE = 1\n",
    "\n",
    "    def __init__(self, min_samples_split=2, max_depth=5, criterion='gini'):\n",
    "        \"\"\"\n",
    "        criterion -- критерий расщепления. необходимо релизовать три:\n",
    "        Ошибка классификации, Индекс Джини, Энтропийный критерий\n",
    "        max_depth -- максимальная глубина дерева\n",
    "        min_samples_split -- минимальное число объектов в листе, чтобы сделать новый сплит\n",
    "        \"\"\"\n",
    "        self.min_samples_split = min_samples_split\n",
    "        self.max_depth = max_depth\n",
    "        self.num_class = -1\n",
    "        # Для последнего задания\n",
    "        self.feature_importances_ = None\n",
    "        self.criterion = criterion\n",
    "        # Структура, которая описывает дерево\n",
    "        # Представляет словарь, где для  node_id (айдишник узла дерева) храним\n",
    "        # (тип_узла, айдишник признака сплита, порог сплита) если тип NON_LEAF_TYPE\n",
    "        # (тип_узла, предсказание класса, вероятность класса) если тип LEAF_TYPE\n",
    "        # Подразумевается, что у каждого node_id в дереве слева \n",
    "        # узел с айди 2 * node_id + 1, а справа 2 * node_id + 2\n",
    "        self.tree = {}\n",
    "    \n",
    "    def __gini_criterion(self, cnt, len_):\n",
    "        if(len_==0): return 1\n",
    "        return 1 - sum([(c/len_)**2 for c in cnt])\n",
    "    \n",
    "    def __entropy_criterion(self, cnt, len_):\n",
    "        if(len_==0): return 0\n",
    "        return -sum([c/len_*np.log(c/len_) for c in cnt])\n",
    "    \n",
    "    def __log_loss_criterion(self, cnt, len_):\n",
    "        if(len_==0): return 1\n",
    "        return 1 - cnt.max()/len_\n",
    "\n",
    "    def __find_threshold(self, x, y):\n",
    "        \"\"\"\n",
    "        Находим оптимальный признак и порог для сплита\n",
    "        Здесь используемые разные impurity в зависимости от self.criterion\n",
    "        \"\"\"\n",
    "        mx_gain, mx_j, mx_thr = -1, 0, 0\n",
    "        y_criterion = None\n",
    "        if(self.criterion=='gini'):\n",
    "            y_criterion = gini_criterion\n",
    "        elif(self.criterion=='entropy'):\n",
    "            y_criterion = entropy_criterion\n",
    "        else:    \n",
    "            y_criterion = log_loss_criterion\n",
    "        \n",
    "        l_mem = np.array([0 for i in range(self.num_class)])\n",
    "        uniq = np.unique(y)\n",
    "        r_mem = np.array([sum(y==c) for c in range(self.num_class)])\n",
    "        \n",
    "        uniques = [np.unique(list(zip(x[:,j], y)), axis=0, return_counts=True) for j in range(x.shape[1])]\n",
    "                \n",
    "        return find_threshold_njit_loop(x, y, y_criterion, l_mem, r_mem, uniques)\n",
    "                    \n",
    "            \n",
    "\n",
    "    def __fit_node(self, x, y, node_id, depth):\n",
    "        \"\"\"\n",
    "        Делаем новый узел в дереве\n",
    "        Решаем, терминальный он или нет\n",
    "        Если нет, то строим левый узел  с айди 2 * node_id + 1\n",
    "        И правый узел с  айди 2 * node_id + 2\n",
    "        \"\"\"\n",
    "        if(len(x)==0): return\n",
    "        self.tree[node_id] = [-1,-1,-1]\n",
    "        if(depth==self.max_depth or len(x) < self.min_samples_split):\n",
    "            self.tree[node_id][0] = self.__class__.LEAF_TYPE\n",
    "            ys, cnt = np.unique(y, return_counts=True)\n",
    "            ind_max = np.argmax(cnt)\n",
    "            self.tree[node_id][1] = ys[ind_max]\n",
    "            self.tree[node_id][2] = cnt[ind_max] / len(y)\n",
    "            return\n",
    "        \n",
    "        self.tree[node_id][0] = self.__class__.NON_LEAF_TYPE\n",
    "        gain, j, thr = self.__find_threshold(x, y)\n",
    "        self.feature_importances_[j] += gain\n",
    "        self.tree[node_id][1] = j\n",
    "        self.tree[node_id][2] = thr\n",
    "        if(gain==0): \n",
    "            self.tree[node_id][0] = self.__class__.LEAF_TYPE\n",
    "            ys, cnt = np.unique(y, return_counts=True)\n",
    "            ind_max = np.argmax(cnt)\n",
    "            self.tree[node_id][1] = ys[ind_max]\n",
    "            self.tree[node_id][2] = cnt[ind_max] / len(y)\n",
    "            return\n",
    "        \n",
    "        xl, xr, yl, yr = div_samples(x, y, j, thr)\n",
    "        \n",
    "        self.__fit_node(xl, yl, node_id * 2 + 1, depth+1)\n",
    "        self.__fit_node(xr, yr, node_id * 2 + 2, depth+1)\n",
    "    \n",
    "    def fit(self, x, y):\n",
    "        \"\"\"\n",
    "        Рекурсивно строим дерево решений\n",
    "        Начинаем с корня node_id 0\n",
    "        \"\"\"\n",
    "        self.num_class = np.unique(y).size\n",
    "        self.feature_importances_ = [0 for i in range(x.shape[1])]\n",
    "        self.__fit_node(x, y, 0, 0) \n",
    "\n",
    "    def __predict_class(self, x, node_id):\n",
    "        \"\"\"\n",
    "        Рекурсивно обходим дерево по всем узлам,\n",
    "        пока не дойдем до терминального\n",
    "        \"\"\"\n",
    "        node = self.tree[node_id]\n",
    "        if node[0] == self.__class__.NON_LEAF_TYPE:\n",
    "            _, feature_id, threshold = node\n",
    "            if x[feature_id] > threshold:\n",
    "                return self.__predict_class(x, 2 * node_id + 1)\n",
    "            else:\n",
    "                return self.__predict_class(x, 2 * node_id + 2)\n",
    "        else:\n",
    "            return node[1]\n",
    "        \n",
    "    def predict(self, X):\n",
    "        \"\"\"\n",
    "        Вызывает predict для всех объектов из матрицы X\n",
    "        \"\"\"\n",
    "        return np.array([self.__predict_class(x, 0) for x in X])\n",
    "\n",
    "    def __predict_proba(self, x, node_id):\n",
    "        \"\"\"\n",
    "        Рекурсивно обходим дерево по всем узлам,\n",
    "        пока не дойдем до терминального\n",
    "        \"\"\"\n",
    "        node = self.tree[node_id]\n",
    "        if node[0] == self.__class__.NON_LEAF_TYPE:\n",
    "            _, feature_id, threshold = node\n",
    "            if x[feature_id] > threshold:\n",
    "                return self.__predict_proba(x, 2 * node_id + 1)\n",
    "            else:\n",
    "                return self.__predict_proba(x, 2 * node_id + 2)\n",
    "        else:\n",
    "            return node[2]\n",
    "        \n",
    "    def predict_proba(self, X):\n",
    "        \"\"\"\n",
    "        Вызывает predict_proba для всех объектов из матрицы X\n",
    "        \"\"\"\n",
    "        return np.array([self.__predict_proba(x, 0) for x in X])\n",
    "    \n",
    "    def fit_predict(self, x_train, y_train, predicted_x):\n",
    "        self.fit(x_train, y_train)\n",
    "        return self.predict(predicted_x)\n",
    "    \n",
    "    def get_feature_importance(self):\n",
    "        \"\"\"\n",
    "        Возвращает важность признаков\n",
    "        \"\"\"\n",
    "        return np.array(self.feature_importances_)"
   ]
  },
  {
   "cell_type": "code",
   "execution_count": 4,
   "metadata": {
    "tags": []
   },
   "outputs": [],
   "source": [
    "wine = load_wine()\n",
    "X_train, X_test, y_train, y_test = train_test_split(wine.data, wine.target, test_size=0.1, stratify=wine.target)"
   ]
  },
  {
   "cell_type": "code",
   "execution_count": 5,
   "metadata": {
    "tags": []
   },
   "outputs": [],
   "source": [
    "my_clf = MyDecisionTreeClassifier(min_samples_split=2)\n",
    "clf = DecisionTreeClassifier(min_samples_split=2)"
   ]
  },
  {
   "cell_type": "code",
   "execution_count": 6,
   "metadata": {
    "tags": []
   },
   "outputs": [],
   "source": [
    "clf.fit(X_train, y_train)\n",
    "my_clf.fit(X_train, y_train)"
   ]
  },
  {
   "cell_type": "code",
   "execution_count": 7,
   "metadata": {
    "tags": []
   },
   "outputs": [
    {
     "name": "stdout",
     "output_type": "stream",
     "text": [
      "0.9444444444444444\n",
      "1.0\n"
     ]
    }
   ],
   "source": [
    "print(accuracy_score(y_pred=clf.predict(X_test), y_true=y_test))\n",
    "print(accuracy_score(y_pred=my_clf.predict(X_test), y_true=y_test))"
   ]
  },
  {
   "cell_type": "code",
   "execution_count": 23,
   "metadata": {
    "tags": []
   },
   "outputs": [
    {
     "name": "stdout",
     "output_type": "stream",
     "text": [
      "0.7361282367447596\n",
      "0.8199753390875463\n"
     ]
    }
   ],
   "source": [
    "my_clf = MyDecisionTreeClassifier(min_samples_split=3, criterion='entropy')\n",
    "clf = DecisionTreeClassifier(min_samples_split=3, criterion='entropy')\n",
    "clf.fit(X_train, y_train)\n",
    "my_clf.fit(X_train, y_train)\n",
    "print(accuracy_score(y_pred=clf.predict(X_test), y_true=y_test))\n",
    "print(accuracy_score(y_pred=my_clf.predict(X_test), y_true=y_test))"
   ]
  },
  {
   "cell_type": "code",
   "execution_count": 9,
   "metadata": {
    "tags": []
   },
   "outputs": [
    {
     "name": "stdout",
     "output_type": "stream",
     "text": [
      "0.9444444444444444\n",
      "0.8333333333333334\n"
     ]
    }
   ],
   "source": [
    "my_clf = MyDecisionTreeClassifier(min_samples_split=2, criterion='log_loss')\n",
    "clf = DecisionTreeClassifier(min_samples_split=2, criterion='log_loss')\n",
    "clf.fit(X_train, y_train)\n",
    "my_clf.fit(X_train, y_train)\n",
    "print(accuracy_score(y_pred=clf.predict(X_test), y_true=y_test))\n",
    "print(accuracy_score(y_pred=my_clf.predict(X_test), y_true=y_test))"
   ]
  },
  {
   "cell_type": "markdown",
   "metadata": {},
   "source": [
    "Совет: Проверьте, что ваша реализация корректно работает с признаками в которых встречаются повторы. \n",
    "И подумайте, какие еще граничные случаи могут быть.\n",
    "Например, проверьте, что на таком примере ваша модель корректно работает:"
   ]
  },
  {
   "cell_type": "code",
   "execution_count": 10,
   "metadata": {
    "tags": []
   },
   "outputs": [
    {
     "name": "stdout",
     "output_type": "stream",
     "text": [
      "DEPTH: 1 \n",
      "\t\tTree: {0: [0, 1, 2], 1: [1, 1, 0.7142857142857143], 2: [1, 0, 1.0]} [0 0 0 1 1 1 1 1 1 1]\n",
      "DEPTH: 2 \n",
      "\t\tTree: {0: [0, 1, 2], 1: [0, 1, 6], 3: [1, 1, 1.0], 4: [1, 0, 0.5], 2: [1, 0, 1.0]} [0 0 0 0 0 0 0 1 1 1]\n",
      "DEPTH: 3 \n",
      "\t\tTree: {0: [0, 1, 2], 1: [0, 1, 6], 3: [1, 1, 1.0], 4: [0, 1, 4], 9: [1, 0, 1.0], 10: [1, 1, 1.0], 2: [1, 0, 1.0]} [0 0 0 0 0 1 1 1 1 1]\n",
      "DEPTH: 4 \n",
      "\t\tTree: {0: [0, 1, 2], 1: [0, 1, 6], 3: [1, 1, 1.0], 4: [0, 1, 4], 9: [1, 0, 1.0], 10: [1, 1, 1.0], 2: [1, 0, 1.0]} [0 0 0 0 0 1 1 1 1 1]\n"
     ]
    }
   ],
   "source": [
    "X = np.array([[1] * 10, [0, 1, 2, 5, 6, 3, 4, 7, 8, 9]]).T\n",
    "y = np.array([0, 0, 0, 0, 0, 1, 1, 1, 1, 1])\n",
    "for depth in range(1, 5):\n",
    "    my_clf = MyDecisionTreeClassifier(max_depth=depth)\n",
    "    my_clf.fit(X, y)\n",
    "    print(\"DEPTH:\", depth, \"\\n\\t\\tTree:\", my_clf.tree, my_clf.predict(X))"
   ]
  },
  {
   "cell_type": "markdown",
   "metadata": {},
   "source": [
    "### Придумайте интересные примеры для отладки дерева решений (доп. задание)\n",
    "Это необязательный пункт. За него можно получить 1 доп балл. \n",
    "Можете придумать примеры для отладки дерева, похожие на пример выше. \n",
    "\n",
    "Они должны быть не сложные, но в то же время информативные, чтобы можно было понять, что реализация содержит ошибки.\n",
    "Вместе с примером нужно указать ожидаемый выход модели. "
   ]
  },
  {
   "cell_type": "code",
   "execution_count": 11,
   "metadata": {},
   "outputs": [],
   "source": [
    "# Примеры"
   ]
  },
  {
   "cell_type": "markdown",
   "metadata": {},
   "source": [
    "## Ускоряем дерево решений (2 балла)\n",
    "Добиться скорости работы на fit не медленнее чем в 10 раз sklearn на данных wine. \n",
    "Для этого используем numpy."
   ]
  },
  {
   "cell_type": "code",
   "execution_count": 12,
   "metadata": {
    "scrolled": true,
    "tags": []
   },
   "outputs": [
    {
     "name": "stdout",
     "output_type": "stream",
     "text": [
      "The slowest run took 4.26 times longer than the fastest. This could mean that an intermediate result is being cached.\n",
      "2.9 ms ± 1.59 ms per loop (mean ± std. dev. of 10 runs, 10 loops each)\n"
     ]
    }
   ],
   "source": [
    "%%timeit -n 10 -r 10 \n",
    "clf = DecisionTreeClassifier(min_samples_split=2, max_depth=5)\n",
    "clf.fit(X_train, y_train)"
   ]
  },
  {
   "cell_type": "code",
   "execution_count": 13,
   "metadata": {
    "tags": []
   },
   "outputs": [
    {
     "name": "stdout",
     "output_type": "stream",
     "text": [
      "69.4 ms ± 5.82 ms per loop (mean ± std. dev. of 10 runs, 10 loops each)\n"
     ]
    }
   ],
   "source": [
    "%%timeit -n 10 -r 10 \n",
    "my_clf = MyDecisionTreeClassifier(min_samples_split=2, max_depth=5)\n",
    "my_clf.fit(X_train, y_train)"
   ]
  },
  {
   "cell_type": "code",
   "execution_count": null,
   "metadata": {
    "collapsed": true,
    "jupyter": {
     "outputs_hidden": true
    }
   },
   "outputs": [],
   "source": []
  },
  {
   "cell_type": "markdown",
   "metadata": {},
   "source": [
    "## Боевое применение (3 балла)\n",
    "\n",
    "На практике Вы познакомились с датасетом Speed Dating Data. В нем каждая пара в быстрых свиданиях характеризуется определенным набором признаков. Задача -- предсказать, произойдет ли матч пары (колонка match). \n",
    "\n",
    "Данные и описания колонок во вложениях.\n",
    "\n",
    "Пример работы с датасетом можете найти в практике пункт 2\n",
    "https://github.com/VVVikulin/ml1.sphere/blob/master/2019-09/lecture_06/pract-trees.ipynb\n",
    "\n",
    "Либо воспользоваться функцией:"
   ]
  },
  {
   "cell_type": "code",
   "execution_count": 14,
   "metadata": {},
   "outputs": [],
   "source": [
    "def preprocess_spd_data(df):\n",
    "    df = df.iloc[:, :97]\n",
    "    \n",
    "    to_drop = [\n",
    "        'id', 'idg', 'condtn', 'round', 'position', 'positin1', 'order', 'partner', \n",
    "        'age_o', 'race_o', 'pf_o_att', 'pf_o_sin', 'pf_o_int', 'pf_o_fun', 'pf_o_amb', 'pf_o_sha',\n",
    "        'dec_o', 'attr_o', 'sinc_o', 'intel_o', 'fun_o', 'amb_o', 'shar_o', 'like_o', 'prob_o','met_o',\n",
    "        'field', 'undergra', 'from', 'zipcode', 'income', 'career', 'sports', 'tvsports', 'exercise', \n",
    "        'dining', 'museums', 'art', 'hiking', 'gaming', 'clubbing', 'reading', 'tv', 'theater', 'movies', \n",
    "        'concerts', 'music', 'shopping', 'yoga', 'expnum',\n",
    "        'mn_sat', 'tuition'\n",
    "    ]\n",
    "\n",
    "    df = df.drop(to_drop, axis=1)\n",
    "    df = df.dropna(subset=['age', 'imprelig', 'imprace', 'date'])\n",
    "\n",
    "    df.loc[:, 'field_cd'] = df.loc[:, 'field_cd'].fillna(19)\n",
    "    df.loc[:, 'career_c'] = df.loc[:, 'career_c'].fillna(18)\n",
    "    \n",
    "    # attr1 processing\n",
    "    df.loc[:, 'temp_totalsum'] = df.loc[:, ['attr1_1', 'sinc1_1', 'intel1_1', 'fun1_1', \n",
    "                                            'amb1_1', 'shar1_1']].sum(axis=1)\n",
    "    df.loc[:, ['attr1_1', 'sinc1_1', 'intel1_1', 'fun1_1', 'amb1_1', 'shar1_1']] =\\\n",
    "    (df.loc[:, ['attr1_1', 'sinc1_1', 'intel1_1', 'fun1_1', 'amb1_1', 'shar1_1']].T / \n",
    "     df.loc[:, 'temp_totalsum'].T).T * 100\n",
    "    \n",
    "    # attr2 processing\n",
    "    df.loc[:, 'temp_totalsum'] = df.loc[:, ['attr2_1', 'sinc2_1', 'intel2_1', 'fun2_1', \n",
    "                                            'amb2_1', 'shar2_1']].sum(axis=1)\n",
    "    df.loc[:, ['attr2_1', 'sinc2_1', 'intel2_1', 'fun2_1', 'amb2_1', 'shar2_1']] =\\\n",
    "    (df.loc[:, ['attr2_1', 'sinc2_1', 'intel2_1', 'fun2_1', 'amb2_1', 'shar2_1']].T / \n",
    "     df.loc[:, 'temp_totalsum'].T).T * 100\n",
    "    df = df.drop(['temp_totalsum'], axis=1)\n",
    "    \n",
    "    for i in [4, 5]:\n",
    "        feat = ['attr{}_1'.format(i), 'sinc{}_1'.format(i), \n",
    "                'intel{}_1'.format(i), 'fun{}_1'.format(i), \n",
    "                'amb{}_1'.format(i), 'shar{}_1'.format(i)]\n",
    "\n",
    "        if i != 4:\n",
    "            feat.remove('shar{}_1'.format(i))\n",
    "    \n",
    "        df = df.drop(feat, axis=1)\n",
    "    \n",
    "    df = df.drop(['wave'], axis=1)\n",
    "    df = df.dropna()\n",
    "    return df"
   ]
  },
  {
   "cell_type": "markdown",
   "metadata": {},
   "source": [
    "Скачайте датасет, обработайте данные, как показано на семинаре или своим собственным способом. Обучите дерево классифкации. В качестве таргета возьмите колонку 'match'. Постарайтесь хорошо обработать признаки, чтобы выбить максимальную точность. Если точность будет близка к случайному гаданию, задание не будет защитано. В качестве метрики можно взять roc-auc. \n"
   ]
  },
  {
   "cell_type": "code",
   "execution_count": 15,
   "metadata": {
    "tags": []
   },
   "outputs": [
    {
     "data": {
      "text/html": [
       "<div>\n",
       "<style scoped>\n",
       "    .dataframe tbody tr th:only-of-type {\n",
       "        vertical-align: middle;\n",
       "    }\n",
       "\n",
       "    .dataframe tbody tr th {\n",
       "        vertical-align: top;\n",
       "    }\n",
       "\n",
       "    .dataframe thead th {\n",
       "        text-align: right;\n",
       "    }\n",
       "</style>\n",
       "<table border=\"1\" class=\"dataframe\">\n",
       "  <thead>\n",
       "    <tr style=\"text-align: right;\">\n",
       "      <th></th>\n",
       "      <th>iid</th>\n",
       "      <th>gender</th>\n",
       "      <th>pid</th>\n",
       "      <th>match</th>\n",
       "      <th>int_corr</th>\n",
       "      <th>samerace</th>\n",
       "      <th>age</th>\n",
       "      <th>field_cd</th>\n",
       "      <th>race</th>\n",
       "      <th>imprace</th>\n",
       "      <th>...</th>\n",
       "      <th>sinc2_1</th>\n",
       "      <th>intel2_1</th>\n",
       "      <th>fun2_1</th>\n",
       "      <th>amb2_1</th>\n",
       "      <th>shar2_1</th>\n",
       "      <th>attr3_1</th>\n",
       "      <th>sinc3_1</th>\n",
       "      <th>fun3_1</th>\n",
       "      <th>intel3_1</th>\n",
       "      <th>amb3_1</th>\n",
       "    </tr>\n",
       "  </thead>\n",
       "  <tbody>\n",
       "    <tr>\n",
       "      <th>0</th>\n",
       "      <td>1</td>\n",
       "      <td>0</td>\n",
       "      <td>11.0</td>\n",
       "      <td>0</td>\n",
       "      <td>0.14</td>\n",
       "      <td>0</td>\n",
       "      <td>21.0</td>\n",
       "      <td>1.0</td>\n",
       "      <td>4.0</td>\n",
       "      <td>2.0</td>\n",
       "      <td>...</td>\n",
       "      <td>20.0</td>\n",
       "      <td>15.0</td>\n",
       "      <td>20.0</td>\n",
       "      <td>5.0</td>\n",
       "      <td>5.0</td>\n",
       "      <td>6.0</td>\n",
       "      <td>8.0</td>\n",
       "      <td>8.0</td>\n",
       "      <td>8.0</td>\n",
       "      <td>7.0</td>\n",
       "    </tr>\n",
       "    <tr>\n",
       "      <th>1</th>\n",
       "      <td>1</td>\n",
       "      <td>0</td>\n",
       "      <td>12.0</td>\n",
       "      <td>0</td>\n",
       "      <td>0.54</td>\n",
       "      <td>0</td>\n",
       "      <td>21.0</td>\n",
       "      <td>1.0</td>\n",
       "      <td>4.0</td>\n",
       "      <td>2.0</td>\n",
       "      <td>...</td>\n",
       "      <td>20.0</td>\n",
       "      <td>15.0</td>\n",
       "      <td>20.0</td>\n",
       "      <td>5.0</td>\n",
       "      <td>5.0</td>\n",
       "      <td>6.0</td>\n",
       "      <td>8.0</td>\n",
       "      <td>8.0</td>\n",
       "      <td>8.0</td>\n",
       "      <td>7.0</td>\n",
       "    </tr>\n",
       "    <tr>\n",
       "      <th>2</th>\n",
       "      <td>1</td>\n",
       "      <td>0</td>\n",
       "      <td>13.0</td>\n",
       "      <td>1</td>\n",
       "      <td>0.16</td>\n",
       "      <td>1</td>\n",
       "      <td>21.0</td>\n",
       "      <td>1.0</td>\n",
       "      <td>4.0</td>\n",
       "      <td>2.0</td>\n",
       "      <td>...</td>\n",
       "      <td>20.0</td>\n",
       "      <td>15.0</td>\n",
       "      <td>20.0</td>\n",
       "      <td>5.0</td>\n",
       "      <td>5.0</td>\n",
       "      <td>6.0</td>\n",
       "      <td>8.0</td>\n",
       "      <td>8.0</td>\n",
       "      <td>8.0</td>\n",
       "      <td>7.0</td>\n",
       "    </tr>\n",
       "    <tr>\n",
       "      <th>3</th>\n",
       "      <td>1</td>\n",
       "      <td>0</td>\n",
       "      <td>14.0</td>\n",
       "      <td>1</td>\n",
       "      <td>0.61</td>\n",
       "      <td>0</td>\n",
       "      <td>21.0</td>\n",
       "      <td>1.0</td>\n",
       "      <td>4.0</td>\n",
       "      <td>2.0</td>\n",
       "      <td>...</td>\n",
       "      <td>20.0</td>\n",
       "      <td>15.0</td>\n",
       "      <td>20.0</td>\n",
       "      <td>5.0</td>\n",
       "      <td>5.0</td>\n",
       "      <td>6.0</td>\n",
       "      <td>8.0</td>\n",
       "      <td>8.0</td>\n",
       "      <td>8.0</td>\n",
       "      <td>7.0</td>\n",
       "    </tr>\n",
       "    <tr>\n",
       "      <th>4</th>\n",
       "      <td>1</td>\n",
       "      <td>0</td>\n",
       "      <td>15.0</td>\n",
       "      <td>1</td>\n",
       "      <td>0.21</td>\n",
       "      <td>0</td>\n",
       "      <td>21.0</td>\n",
       "      <td>1.0</td>\n",
       "      <td>4.0</td>\n",
       "      <td>2.0</td>\n",
       "      <td>...</td>\n",
       "      <td>20.0</td>\n",
       "      <td>15.0</td>\n",
       "      <td>20.0</td>\n",
       "      <td>5.0</td>\n",
       "      <td>5.0</td>\n",
       "      <td>6.0</td>\n",
       "      <td>8.0</td>\n",
       "      <td>8.0</td>\n",
       "      <td>8.0</td>\n",
       "      <td>7.0</td>\n",
       "    </tr>\n",
       "    <tr>\n",
       "      <th>...</th>\n",
       "      <td>...</td>\n",
       "      <td>...</td>\n",
       "      <td>...</td>\n",
       "      <td>...</td>\n",
       "      <td>...</td>\n",
       "      <td>...</td>\n",
       "      <td>...</td>\n",
       "      <td>...</td>\n",
       "      <td>...</td>\n",
       "      <td>...</td>\n",
       "      <td>...</td>\n",
       "      <td>...</td>\n",
       "      <td>...</td>\n",
       "      <td>...</td>\n",
       "      <td>...</td>\n",
       "      <td>...</td>\n",
       "      <td>...</td>\n",
       "      <td>...</td>\n",
       "      <td>...</td>\n",
       "      <td>...</td>\n",
       "      <td>...</td>\n",
       "    </tr>\n",
       "    <tr>\n",
       "      <th>8373</th>\n",
       "      <td>552</td>\n",
       "      <td>1</td>\n",
       "      <td>526.0</td>\n",
       "      <td>0</td>\n",
       "      <td>0.64</td>\n",
       "      <td>0</td>\n",
       "      <td>25.0</td>\n",
       "      <td>18.0</td>\n",
       "      <td>2.0</td>\n",
       "      <td>1.0</td>\n",
       "      <td>...</td>\n",
       "      <td>0.0</td>\n",
       "      <td>0.0</td>\n",
       "      <td>30.0</td>\n",
       "      <td>0.0</td>\n",
       "      <td>20.0</td>\n",
       "      <td>8.0</td>\n",
       "      <td>7.0</td>\n",
       "      <td>6.0</td>\n",
       "      <td>7.0</td>\n",
       "      <td>7.0</td>\n",
       "    </tr>\n",
       "    <tr>\n",
       "      <th>8374</th>\n",
       "      <td>552</td>\n",
       "      <td>1</td>\n",
       "      <td>527.0</td>\n",
       "      <td>0</td>\n",
       "      <td>0.71</td>\n",
       "      <td>0</td>\n",
       "      <td>25.0</td>\n",
       "      <td>18.0</td>\n",
       "      <td>2.0</td>\n",
       "      <td>1.0</td>\n",
       "      <td>...</td>\n",
       "      <td>0.0</td>\n",
       "      <td>0.0</td>\n",
       "      <td>30.0</td>\n",
       "      <td>0.0</td>\n",
       "      <td>20.0</td>\n",
       "      <td>8.0</td>\n",
       "      <td>7.0</td>\n",
       "      <td>6.0</td>\n",
       "      <td>7.0</td>\n",
       "      <td>7.0</td>\n",
       "    </tr>\n",
       "    <tr>\n",
       "      <th>8375</th>\n",
       "      <td>552</td>\n",
       "      <td>1</td>\n",
       "      <td>528.0</td>\n",
       "      <td>0</td>\n",
       "      <td>-0.46</td>\n",
       "      <td>0</td>\n",
       "      <td>25.0</td>\n",
       "      <td>18.0</td>\n",
       "      <td>2.0</td>\n",
       "      <td>1.0</td>\n",
       "      <td>...</td>\n",
       "      <td>0.0</td>\n",
       "      <td>0.0</td>\n",
       "      <td>30.0</td>\n",
       "      <td>0.0</td>\n",
       "      <td>20.0</td>\n",
       "      <td>8.0</td>\n",
       "      <td>7.0</td>\n",
       "      <td>6.0</td>\n",
       "      <td>7.0</td>\n",
       "      <td>7.0</td>\n",
       "    </tr>\n",
       "    <tr>\n",
       "      <th>8376</th>\n",
       "      <td>552</td>\n",
       "      <td>1</td>\n",
       "      <td>529.0</td>\n",
       "      <td>0</td>\n",
       "      <td>0.62</td>\n",
       "      <td>0</td>\n",
       "      <td>25.0</td>\n",
       "      <td>18.0</td>\n",
       "      <td>2.0</td>\n",
       "      <td>1.0</td>\n",
       "      <td>...</td>\n",
       "      <td>0.0</td>\n",
       "      <td>0.0</td>\n",
       "      <td>30.0</td>\n",
       "      <td>0.0</td>\n",
       "      <td>20.0</td>\n",
       "      <td>8.0</td>\n",
       "      <td>7.0</td>\n",
       "      <td>6.0</td>\n",
       "      <td>7.0</td>\n",
       "      <td>7.0</td>\n",
       "    </tr>\n",
       "    <tr>\n",
       "      <th>8377</th>\n",
       "      <td>552</td>\n",
       "      <td>1</td>\n",
       "      <td>530.0</td>\n",
       "      <td>0</td>\n",
       "      <td>0.01</td>\n",
       "      <td>0</td>\n",
       "      <td>25.0</td>\n",
       "      <td>18.0</td>\n",
       "      <td>2.0</td>\n",
       "      <td>1.0</td>\n",
       "      <td>...</td>\n",
       "      <td>0.0</td>\n",
       "      <td>0.0</td>\n",
       "      <td>30.0</td>\n",
       "      <td>0.0</td>\n",
       "      <td>20.0</td>\n",
       "      <td>8.0</td>\n",
       "      <td>7.0</td>\n",
       "      <td>6.0</td>\n",
       "      <td>7.0</td>\n",
       "      <td>7.0</td>\n",
       "    </tr>\n",
       "  </tbody>\n",
       "</table>\n",
       "<p>8104 rows × 33 columns</p>\n",
       "</div>"
      ],
      "text/plain": [
       "      iid  gender    pid  match  int_corr  samerace   age  field_cd  race  \\\n",
       "0       1       0   11.0      0      0.14         0  21.0       1.0   4.0   \n",
       "1       1       0   12.0      0      0.54         0  21.0       1.0   4.0   \n",
       "2       1       0   13.0      1      0.16         1  21.0       1.0   4.0   \n",
       "3       1       0   14.0      1      0.61         0  21.0       1.0   4.0   \n",
       "4       1       0   15.0      1      0.21         0  21.0       1.0   4.0   \n",
       "...   ...     ...    ...    ...       ...       ...   ...       ...   ...   \n",
       "8373  552       1  526.0      0      0.64         0  25.0      18.0   2.0   \n",
       "8374  552       1  527.0      0      0.71         0  25.0      18.0   2.0   \n",
       "8375  552       1  528.0      0     -0.46         0  25.0      18.0   2.0   \n",
       "8376  552       1  529.0      0      0.62         0  25.0      18.0   2.0   \n",
       "8377  552       1  530.0      0      0.01         0  25.0      18.0   2.0   \n",
       "\n",
       "      imprace  ...  sinc2_1  intel2_1  fun2_1  amb2_1  shar2_1  attr3_1  \\\n",
       "0         2.0  ...     20.0      15.0    20.0     5.0      5.0      6.0   \n",
       "1         2.0  ...     20.0      15.0    20.0     5.0      5.0      6.0   \n",
       "2         2.0  ...     20.0      15.0    20.0     5.0      5.0      6.0   \n",
       "3         2.0  ...     20.0      15.0    20.0     5.0      5.0      6.0   \n",
       "4         2.0  ...     20.0      15.0    20.0     5.0      5.0      6.0   \n",
       "...       ...  ...      ...       ...     ...     ...      ...      ...   \n",
       "8373      1.0  ...      0.0       0.0    30.0     0.0     20.0      8.0   \n",
       "8374      1.0  ...      0.0       0.0    30.0     0.0     20.0      8.0   \n",
       "8375      1.0  ...      0.0       0.0    30.0     0.0     20.0      8.0   \n",
       "8376      1.0  ...      0.0       0.0    30.0     0.0     20.0      8.0   \n",
       "8377      1.0  ...      0.0       0.0    30.0     0.0     20.0      8.0   \n",
       "\n",
       "      sinc3_1  fun3_1  intel3_1  amb3_1  \n",
       "0         8.0     8.0       8.0     7.0  \n",
       "1         8.0     8.0       8.0     7.0  \n",
       "2         8.0     8.0       8.0     7.0  \n",
       "3         8.0     8.0       8.0     7.0  \n",
       "4         8.0     8.0       8.0     7.0  \n",
       "...       ...     ...       ...     ...  \n",
       "8373      7.0     6.0       7.0     7.0  \n",
       "8374      7.0     6.0       7.0     7.0  \n",
       "8375      7.0     6.0       7.0     7.0  \n",
       "8376      7.0     6.0       7.0     7.0  \n",
       "8377      7.0     6.0       7.0     7.0  \n",
       "\n",
       "[8104 rows x 33 columns]"
      ]
     },
     "execution_count": 15,
     "metadata": {},
     "output_type": "execute_result"
    }
   ],
   "source": [
    "df = pd.read_csv('Speed_Dating_Data.csv', encoding='latin1')\n",
    "df = preprocess_spd_data(df)\n",
    "df"
   ]
  },
  {
   "cell_type": "code",
   "execution_count": 16,
   "metadata": {},
   "outputs": [],
   "source": [
    "df_X,df_y = df.drop(['match'], axis=1, inplace=False), df.match\n",
    "X,y = df_X.to_numpy(), df_y.to_numpy()"
   ]
  },
  {
   "cell_type": "markdown",
   "metadata": {},
   "source": [
    "Разбейте датасет на трейн и валидацию. Подберите на валидации оптимальный критерий  информативности. \n",
    "Постройте графики зависимости точности на валидации и трейне от глубины дерева, от минимального числа объектов для сплита. (Т.е должно быть 2 графика, на каждой должны быть 2 кривые - для трейна и валидации)\n",
    "Какой максимальной точности удалось достигнуть?"
   ]
  },
  {
   "cell_type": "code",
   "execution_count": 17,
   "metadata": {
    "tags": []
   },
   "outputs": [],
   "source": [
    "X_train, X_test, y_train, y_test = train_test_split(X, y, test_size=0.1, shuffle=True, random_state=1)"
   ]
  },
  {
   "cell_type": "code",
   "execution_count": 18,
   "metadata": {
    "tags": []
   },
   "outputs": [
    {
     "name": "stdout",
     "output_type": "stream",
     "text": [
      "ROC-AUC score:0.6072664538057472\n"
     ]
    }
   ],
   "source": [
    "model = MyDecisionTreeClassifier(min_samples_split=20, max_depth=20, criterion='entropy')\n",
    "model.fit(X_train, y_train)\n",
    "y_pred = model.predict_proba(X_test)\n",
    "print(f\"ROC-AUC score:{roc_auc_score(y_test, 1-y_pred)}\")"
   ]
  },
  {
   "cell_type": "code",
   "execution_count": 19,
   "metadata": {},
   "outputs": [
    {
     "name": "stdout",
     "output_type": "stream",
     "text": [
      "gini 0.7718865598027127\n",
      "entropy 0.7928483353884094\n",
      "log_loss 0.8187422934648582\n"
     ]
    }
   ],
   "source": [
    "model = MyDecisionTreeClassifier(min_samples_split=20, max_depth=20, criterion='gini')\n",
    "model.fit(X_train, y_train)\n",
    "print('gini', accuracy_score(y_pred=model.predict(X_test), y_true=y_test))\n",
    "model = MyDecisionTreeClassifier(min_samples_split=20, max_depth=20, criterion='entropy')\n",
    "model.fit(X_train, y_train)\n",
    "print('entropy', accuracy_score(y_pred=model.predict(X_test), y_true=y_test))\n",
    "model = MyDecisionTreeClassifier(min_samples_split=20, max_depth=20, criterion='log_loss')\n",
    "model.fit(X_train, y_train)\n",
    "print('log_loss', accuracy_score(y_pred=model.predict(X_test), y_true=y_test))"
   ]
  },
  {
   "cell_type": "code",
   "execution_count": 20,
   "metadata": {
    "tags": []
   },
   "outputs": [
    {
     "data": {
      "image/png": "[encoded data removed]",
      "text/plain": [
       "<Figure size 640x480 with 1 Axes>"
      ]
     },
     "metadata": {},
     "output_type": "display_data"
    },
    {
     "data": {
      "image/png": "[encoded data removed]",
      "text/plain": [
       "<Figure size 640x480 with 1 Axes>"
      ]
     },
     "metadata": {},
     "output_type": "display_data"
    }
   ],
   "source": [
    "score_train=[]\n",
    "score_valid=[]\n",
    "params=[1,5,10,20,30]\n",
    "for n in params:\n",
    "    model = MyDecisionTreeClassifier(min_samples_split=2, max_depth=n, criterion='log_loss')\n",
    "    model.fit(X_train, y_train)\n",
    "    score_train.append(accuracy_score(y_pred=model.predict(X_train), y_true=y_train))\n",
    "    score_valid.append(accuracy_score(y_pred=model.predict(X_test), y_true=y_test))\n",
    "plt.plot(params, score_train, label='train')\n",
    "plt.plot(params, score_valid, label='valid')\n",
    "plt.legend()\n",
    "plt.show()\n",
    "\n",
    "score_train=[]\n",
    "score_valid=[]\n",
    "params=[1,5,10,20,30]\n",
    "for n in params:\n",
    "    model = MyDecisionTreeClassifier(min_samples_split=n, max_depth=5, criterion='log_loss')\n",
    "    model.fit(X_train, y_train)\n",
    "    score_train.append(accuracy_score(y_pred=model.predict(X_train), y_true=y_train))\n",
    "    score_valid.append(accuracy_score(y_pred=model.predict(X_test), y_true=y_test))\n",
    "plt.plot(params, score_train, label='train')\n",
    "plt.plot(params, score_valid, label='valid')\n",
    "plt.legend()\n",
    "plt.show()"
   ]
  },
  {
   "cell_type": "code",
   "execution_count": 21,
   "metadata": {},
   "outputs": [
    {
     "data": {
      "text/plain": [
       "0.8386123680241327"
      ]
     },
     "execution_count": 21,
     "metadata": {},
     "output_type": "execute_result"
    }
   ],
   "source": [
    "max(*score_train, *score_valid)"
   ]
  },
  {
   "cell_type": "markdown",
   "metadata": {},
   "source": [
    "Максимальная достигнутая точность на валидации - 83.90%. Наилучший критерий информативности, подобранный на валидации - критерий log_loss"
   ]
  },
  {
   "cell_type": "markdown",
   "metadata": {},
   "source": [
    "Известным фактом является то, что деревья решений сильно переобучаются при увеличении глубины и просто запоминают трейн. \n",
    "Замечаете ли вы такой эффект судя по графикам? Что при этом происходит с качеством на валидации? "
   ]
  },
  {
   "cell_type": "markdown",
   "metadata": {},
   "source": [
    "Судя по валидации, при увеличении глубины деревья действительно переобучаются. Качество на тренировочном датасете растёт, а на валидационном - падает"
   ]
  },
  {
   "cell_type": "markdown",
   "metadata": {},
   "source": [
    "## Находим самые важные признаки (2 балла)\n",
    "\n"
   ]
  },
  {
   "cell_type": "markdown",
   "metadata": {},
   "source": [
    "По построенному дереву  легко понять, какие признаки лучше всего помогли решить задачу. Часто это бывает нужно  не только  для сокращения размерности в данных, но и для лучшего понимания прикладной задачи. Например, Вы хотите понять, какие признаки стоит еще конструировать -- для этого нужно понимать, какие из текущих лучше всего работают в дереве. "
   ]
  },
  {
   "cell_type": "markdown",
   "metadata": {},
   "source": [
    "Самый простой метод -- посчитать число сплитов, где использовался данные признак. Это не лучший вариант, так как по признаку который принимает всего 2 значения, но который почти точно разделяет выборку, число сплитов будет очень 1, но при этом признак сам очень хороший. \n",
    "В этом задании предлагается для каждого признака считать суммарный gain (в лекции обозначено как Q) при использовании этого признака в сплите. Тогда даже у очень хороших признаков с маленьким число сплитов это значение должно быть довольно высоким.  "
   ]
  },
  {
   "cell_type": "markdown",
   "metadata": {},
   "source": [
    "Реализовать это довольно просто: создаете словарь номер фичи : суммарный гейн и добавляете в нужную фичу каждый раз, когда используете ее при построении дерева. "
   ]
  },
  {
   "cell_type": "markdown",
   "metadata": {},
   "source": [
    "Добавьте функционал, который определяет значения feature importance. Обучите дерево на датасете Speed Dating Data.\n",
    "Выведите 10 главных фичей по важности."
   ]
  },
  {
   "cell_type": "code",
   "execution_count": 22,
   "metadata": {
    "tags": []
   },
   "outputs": [
    {
     "data": {
      "text/plain": [
       "['attr1_1',\n",
       " 'fun3_1',\n",
       " 'sinc3_1',\n",
       " 'attr3_1',\n",
       " 'shar2_1',\n",
       " 'amb2_1',\n",
       " 'fun2_1',\n",
       " 'intel2_1',\n",
       " 'sinc2_1',\n",
       " 'attr2_1']"
      ]
     },
     "execution_count": 22,
     "metadata": {},
     "output_type": "execute_result"
    }
   ],
   "source": [
    "model = MyDecisionTreeClassifier(min_samples_split=20, max_depth=20, criterion='log_loss')\n",
    "model.fit(X_train, y_train)\n",
    "[df_X.columns[j] for j in model.get_feature_importance().argsort()][:10]"
   ]
  },
  {
   "cell_type": "markdown",
   "metadata": {},
   "source": [
    "## Фидбек (бесценно)"
   ]
  },
  {
   "cell_type": "markdown",
   "metadata": {},
   "source": [
    "* Какие аспекты обучения деревьев решений Вам показались непонятными? Какое место стоит дополнительно объяснить?\n",
    "Самое непонятное - как реализовать быстрый fit. Я, вроде, свёл время к O(N\\*log(N)) когда различных значений признака немного, и O(N^2) в худшем случае, и всё равно медленно. Не очень понятно, что ещё можно оптимизировать, если проводить полный перебор по признакам и порогам"
   ]
  },
  {
   "cell_type": "markdown",
   "metadata": {},
   "source": [
    "### Ваш ответ здесь"
   ]
  },
  {
   "cell_type": "markdown",
   "metadata": {},
   "source": [
    "* Здесь Вы можете оставить отзыв о этой домашней работе или о всем курсе."
   ]
  },
  {
   "cell_type": "markdown",
   "metadata": {},
   "source": [
    "### ВАШ ОТЗЫВ ЗДЕСЬ\n",
    "\n"
   ]
  },
  {
   "cell_type": "code",
   "execution_count": null,
   "metadata": {
    "collapsed": true,
    "jupyter": {
     "outputs_hidden": true
    }
   },
   "outputs": [],
   "source": []
  }
 ],
 "metadata": {
  "anaconda-cloud": {},
  "kernelspec": {
   "display_name": "Python 3 (ipykernel)",
   "language": "python",
   "name": "python3"
  },
  "language_info": {
   "codemirror_mode": {
    "name": "ipython",
    "version": 3
   },
   "file_extension": ".py",
   "mimetype": "text/x-python",
   "name": "python",
   "nbconvert_exporter": "python",
   "pygments_lexer": "ipython3",
   "version": "3.8.16"
  }
 },
 "nbformat": 4,
 "nbformat_minor": 4
}
