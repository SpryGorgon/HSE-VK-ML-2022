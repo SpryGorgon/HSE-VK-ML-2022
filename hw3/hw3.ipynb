{
 "cells": [
  {
   "cell_type": "markdown",
   "metadata": {},
   "source": [
    "### Машинное обучение\n",
    "## Домашнее задание №3 - Градиентный бустинг"
   ]
  },
  {
   "cell_type": "markdown",
   "metadata": {},
   "source": [
    "**Общая информация**\n",
    "\n",
    "**Срок сдачи:** 16 февраля 2023, 08:30   \n",
    "**Штраф за опоздание:** -2 балла за каждые сутки\n",
    "\n",
    "Используйте данный Ipython Notebook при оформлении домашнего задания."
   ]
  },
  {
   "cell_type": "markdown",
   "metadata": {},
   "source": [
    "##  Считаем производные для функций потерь (1 балл)"
   ]
  },
  {
   "cell_type": "markdown",
   "metadata": {},
   "source": [
    "Мы будем реализовать градиентный бустинг для 3 функций потерь:\n",
    "\n",
    "1) MSE  $L(a(x_i), y_i) = (y_i - a(x_i)) ^ 2$\n",
    "\n",
    "2) Экспоненциальная  $L(a(x_i), y_i) = exp( -a(x_i) y_i), y_i \\in \\{-1, 1\\}$\n",
    "\n",
    "3) Логистическая  $L(a(x_i), y_i) = \\log (1 + exp( -a(x_i) y_i)), y_i \\in \\{-1, 1\\}$\n",
    "\n",
    "где $a(x_i)$ предсказание бустинга на итом объекте. \n",
    "\n",
    "Для каждой функции потерь напишите таргет, на который будет настраиваться каждое дерево в бустинге. "
   ]
  },
  {
   "cell_type": "markdown",
   "metadata": {},
   "source": [
    "Ваше решение тут\n",
    "\n",
    "Будем рассматривать ансамбль $a(x_i) = \\displaystyle \\sum_{k=1}{n} f_k(x_i)$, где n - число алгоритмов.\n",
    "Также, рассмотрим $a_k(x_i) = \\displaystyle \\sum_{p=1}{k} f_p(x_i)$\n",
    "\n",
    "### 1.\n",
    "$\\dfrac{\\delta L(a_k(x_i), y_i)}{\\delta f_k(x_i)} = \\dfrac{(y_i - a_k(x_i)) ^ 2}{\\delta f_k(x_i)} = 2 \\cdot (y_i - a_k(x_i)) = 2 \\cdot (y_i - a_{k-1}(x_i) - f_k(x_i))$\n",
    "\n",
    "Для каждого объекта $x_i$ будем предсказывать антиградиент функции потерь на этом объекте:\n",
    "\n",
    "$f_k = lr \\cdot (y_i - a_{k-1}(x_i))$\n",
    "\n",
    "### 2.\n",
    "$\\dfrac{\\delta L(a_k(x_i), y_i)}{\\delta f_k(x_i)} = \\dfrac{exp( -a_k(x_i) y_i)}{\\delta f_k(x_i)}$\n",
    "\n",
    "Введём обозначения: $w_i = exp(-y_i a_{k-1}(x_i)), \\quad err = \\dfrac{\\sum_{y_i \\ne f_k(x_i)}^{} w_i}{\\sum_{i=1}^{N} w_i}$\n",
    "\n",
    "На лекции было доказано, что, при такой функции потерь, нужно строить ансамбль $a_k(x_i) = a_{k-1}(x_i) + c f_k(x_i)$\n",
    "\n",
    "$f_k(x_i) = lr \\cdot (y_i \\cdot exp(-a_{k-1}(x_i) y_i))$\n",
    "\n",
    "### 3.\n",
    "$\\dfrac{\\delta L(a(x_i), y_i)}{\\delta a(x_i)} = \\dfrac{\\log (1 + exp( -a(x_i) y_i))}{\\delta a(x_i)} = \\dfrac{-y_i}{1+e^{y_i a(x_i)}}$\n",
    "\n",
    "Для каждого объекта $x_i$ будем предсказывать антиградиент функции потерь на этом объекте:\n",
    "\n",
    "$f_k = lr \\cdot \\dfrac{y_i}{1+e^{y_i a_{k-1}(x_i)}}$"
   ]
  },
  {
   "cell_type": "markdown",
   "metadata": {},
   "source": [
    "##  Реализуем градиентный бустинг (3 балла)"
   ]
  },
  {
   "cell_type": "markdown",
   "metadata": {},
   "source": [
    "Реализуйте класс градиентного бустинга для классификации. Ваша реализация бустинга должна работать по точности не более чем на 5 процентов хуже чем GradientBoostingClassifier из sklearn. \n"
   ]
  },
  {
   "cell_type": "markdown",
   "metadata": {},
   "source": [
    "Детали реализации:\n",
    "\n",
    "-- должно поддерживаться 3 функции потерь\n",
    "\n",
    "-- сами базовые алгоритмы(деревья, линейные модели и тп) реализовать не надо, просто возьмите готовые из sklearn\n",
    "\n",
    "-- в качестве функции потерь для построения одного дерева используйте MSE\n",
    "\n",
    "-- шаг в бустинге можно не подбирать, можно брать константный\n",
    "\n",
    "-- можно брать разные модели в качестве инициализации бустинга\n",
    "\n",
    "-- должны поддерживаться следующие параметры:\n",
    "\n",
    "а) число итераций\n",
    "б) размер шага\n",
    "в) процент случайных фичей при построении одного дерева\n",
    "д) процент случайных объектов при построении одного дерева\n",
    "е) параметры базового алгоритма (передавайте через **kwargs)"
   ]
  },
  {
   "cell_type": "code",
   "execution_count": 1,
   "metadata": {
    "tags": []
   },
   "outputs": [],
   "source": [
    "import numpy as np\n",
    "\n",
    "from sklearn.datasets import load_wine\n",
    "from sklearn.ensemble import GradientBoostingClassifier, RandomForestRegressor\n",
    "from sklearn.metrics import accuracy_score\n",
    "from sklearn.model_selection import train_test_split, GridSearchCV\n",
    "from sklearn.tree import DecisionTreeRegressor\n",
    "from sklearn.svm import SVR\n",
    "\n",
    "from numba import njit\n",
    "from multiprocessing import Pool\n",
    "from multiprocessing.pool import ThreadPool\n",
    "from tqdm.notebook import tqdm"
   ]
  },
  {
   "cell_type": "code",
   "execution_count": 2,
   "metadata": {
    "tags": []
   },
   "outputs": [],
   "source": [
    "class MyGradientBoostingClassifier:\n",
    "\n",
    "    def __init__(self, loss:str='mse', learning_rate:float=0.001, n_estimators:int=100, colsample:float=1.0, subsample:float=1.0,\n",
    "                 base_model=None, *args, **kwargs):\n",
    "        \"\"\"\n",
    "        loss -- один из 3 лоссов:\n",
    "        learning_rate -- шаг бустинга\n",
    "        n_estimators -- число итераций\n",
    "        colsample -- процент рандомных признаков при обучнеии одного алгоритма\n",
    "        colsample -- процент рандомных объектов при обучнеии одного алгоритма\n",
    "        args, kwargs -- параметры  базовых моделей\n",
    "        \"\"\"\n",
    "        self.loss = loss\n",
    "        self.lr = learning_rate\n",
    "        self.n_estimators = n_estimators\n",
    "        self.subsample = subsample\n",
    "        self.colsample = colsample\n",
    "        self.base_args = args\n",
    "        self.base_kwargs = kwargs\n",
    "        self.model = None\n",
    "        self.model_features = None\n",
    "        self.base_model = base_model\n",
    "        self.init_bias = 0\n",
    "        self.init_model = None\n",
    "    \n",
    "    def fit(self, X, y, base_model=None, init_model=None):\n",
    "        \"\"\"\n",
    "        X -- объекты для обучения:\n",
    "        y -- таргеты для обучения\n",
    "        base_model -- класс базовых моделей, например sklearn.tree.DecisionTreeRegressor\n",
    "        init_model -- класс для первой модели, если None то берем константу (только для посл задания)\n",
    "        \"\"\"\n",
    "        if(base_model is None): base_model = self.base_model\n",
    "        \n",
    "        self.model = []\n",
    "        self.model_features = []\n",
    "        \n",
    "        if(init_model is not None):\n",
    "            self.init_model = init_model\n",
    "            self.init_model.fit(X,y)\n",
    "        if(self.loss=='mse'):\n",
    "            self.init_bias = y.mean() if self.init_model is None else 0\n",
    "        elif(self.loss=='exponential' or self.loss=='log-loss'):\n",
    "            self.init_bias = 0\n",
    "        else:\n",
    "            raise NotImplementedError\n",
    "        last_pred = np.full((X.shape[0],), self.init_bias, dtype=float) \\\n",
    "                  + (self.init_model.predict(X) if self.init_model is not None else 0)\n",
    "        \n",
    "        \n",
    "        for i in range(self.n_estimators):\n",
    "            m = base_model(*self.base_args, **self.base_kwargs)\n",
    "            ids = (np.random.choice(np.arange(X.shape[0]), int(self.subsample * X.shape[0]), replace=False),\n",
    "                   np.random.choice(np.arange(X.shape[1]), int(self.colsample * X.shape[1]), replace=False))\n",
    "            \n",
    "            if(self.loss=='mse'):\n",
    "                m.fit(X[ids[0]][:,ids[1]], (y-last_pred)[ids[0]])\n",
    "                last_pred += self.lr * m.predict(X[:, ids[1]])\n",
    "                \n",
    "            elif(self.loss=='exponential'):\n",
    "                m.fit(X[ids[0]][:,ids[1]], (y*np.exp(np.array(-y*last_pred)))[ids[0]])\n",
    "                preds = np.sign(m.predict(X[:, ids[1]]))\n",
    "                err = np.sum(np.where(y!=preds, np.exp(np.array(-y*last_pred)), 0))\\\n",
    "                    / np.sum(np.exp(np.array(-y*last_pred)))\n",
    "                if(err==0): break\n",
    "                c = 1/2*np.log((1-err)/err)\n",
    "                last_pred += self.lr * c * preds\n",
    "                \n",
    "            elif(self.loss=='log-loss'):\n",
    "                a_prev = np.sign(last_pred)\n",
    "                m.fit(X[ids[0]][:,ids[1]], (y/(1+np.exp(y*a_prev)))[ids[0]])\n",
    "                last_pred += self.lr * m.predict(X[:, ids[1]])\n",
    "            else:\n",
    "                raise NotImplementedError\n",
    "            self.model.append(m)\n",
    "            self.model_features.append(ids[1])\n",
    "        \n",
    "    def predict(self, X):\n",
    "        ids = self.model_features[0]\n",
    "        y = np.full((X.shape[0],), self.init_bias) \\\n",
    "          + (self.init_model.predict(X) if self.init_model is not None else 0) \\\n",
    "          + self.model[0].predict(X[:,ids])\n",
    "        # self.scores = [accuracy_score(y.round().astype(int), y_true)]\n",
    "        for i in range(1, len(self.model)):\n",
    "            ids = self.model_features[i]\n",
    "            y += self.lr * self.model[i].predict(X[:,ids])\n",
    "            # self.scores.append(accuracy_score(y.round().astype(int), y_true))\n",
    "        if(self.loss=='mse'): return y.round().astype(int)\n",
    "        elif(self.loss=='exponential'): return np.sign(y)\n",
    "        elif(self.loss=='log-loss'): return np.sign(y)\n",
    "        else: raise NotImplementedError\n",
    "\n"
   ]
  },
  {
   "cell_type": "code",
   "execution_count": 3,
   "metadata": {},
   "outputs": [],
   "source": [
    "my_clf = MyGradientBoostingClassifier(n_estimators=100, loss='mse', learning_rate=0.001, max_depth=3)\n",
    "clf = GradientBoostingClassifier(criterion='squared_error')"
   ]
  },
  {
   "cell_type": "code",
   "execution_count": 4,
   "metadata": {
    "tags": []
   },
   "outputs": [],
   "source": [
    "wine = load_wine()\n",
    "X_train, X_test, y_train, y_test = train_test_split(wine.data, wine.target, test_size=0.1, stratify=wine.target)"
   ]
  },
  {
   "cell_type": "code",
   "execution_count": 5,
   "metadata": {},
   "outputs": [
    {
     "name": "stdout",
     "output_type": "stream",
     "text": [
      "1.0\n",
      "0.8888888888888888\n"
     ]
    }
   ],
   "source": [
    "my_clf.fit(X_train, y_train, DecisionTreeRegressor)\n",
    "clf.fit(X_train, y_train)\n",
    "print(accuracy_score(y_pred=clf.predict(X_test), y_true=y_test))\n",
    "print(accuracy_score(y_pred=my_clf.predict(X_test), y_true=y_test))"
   ]
  },
  {
   "cell_type": "markdown",
   "metadata": {
    "tags": []
   },
   "source": [
    "## Подбираем параметры (2 балла)\n",
    "\n",
    "Давайте попробуем применить Ваш бустинг для предсказаний цены домов в Калифорнии. Чтобы можно было попробовтаь разные функции потерь, переведем по порогу таргет в 2 класса: дорогие и дешевые дома."
   ]
  },
  {
   "cell_type": "markdown",
   "metadata": {},
   "source": [
    "В задании нужно\n",
    "\n",
    "1) Построить график точности в зависимости от числа итераций на валидации.\n",
    "\n",
    "2) Подобрать оптимальные параметры Вашего бустинга на валидации. \n"
   ]
  },
  {
   "cell_type": "code",
   "execution_count": 6,
   "metadata": {},
   "outputs": [],
   "source": [
    "from sklearn.datasets import fetch_california_housing\n",
    "from matplotlib import pyplot as plt\n",
    "X, y = fetch_california_housing(return_X_y=True)"
   ]
  },
  {
   "cell_type": "code",
   "execution_count": 7,
   "metadata": {},
   "outputs": [
    {
     "name": "stdout",
     "output_type": "stream",
     "text": [
      "(20640, 8) (20640,)\n"
     ]
    }
   ],
   "source": [
    "# Превращаем регрессию в классификацию\n",
    "y = (y > 2.0).astype(int)*2-1\n",
    "print(X.shape, y.shape)"
   ]
  },
  {
   "cell_type": "code",
   "execution_count": 8,
   "metadata": {
    "tags": []
   },
   "outputs": [],
   "source": [
    "X_train, X_test, y_train, y_test = train_test_split(X, y, test_size=0.1)"
   ]
  },
  {
   "cell_type": "code",
   "execution_count": 9,
   "metadata": {
    "tags": []
   },
   "outputs": [
    {
     "data": {
      "application/vnd.jupyter.widget-view+json": {
       "model_id": "dee5dc24994a4b4a83b880b27f3d050d",
       "version_major": 2,
       "version_minor": 0
      },
      "text/plain": [
       "  0%|          | 0/1215 [00:00<?, ?it/s]"
      ]
     },
     "metadata": {},
     "output_type": "display_data"
    },
    {
     "name": "stdout",
     "output_type": "stream",
     "text": [
      "CPU times: total: 1h 27min 1s\n",
      "Wall time: 31min 22s\n"
     ]
    }
   ],
   "source": [
    "%%time\n",
    "scores = {}\n",
    "params = []\n",
    "for loss in ['mse', 'exponential', 'log-loss']:\n",
    "    for learning_rate in [1, 0.1, 0.01]:\n",
    "        for n_estimators in [10, 30, 50, 100, 200]:\n",
    "            for colsample in [0.3, 0.7, 1.0]:\n",
    "                for subsample in [0.5, 0.9, 1.0]:\n",
    "                    for max_depth in [3, 7, 13]:\n",
    "                        params.append((loss, learning_rate, n_estimators, colsample, subsample, max_depth))\n",
    "                        # base_model=DecisionTreeRegressor\n",
    "                        # my_clf = MyGradientBoostingClassifier(loss=loss, learning_rate=learning_rate, n_estimators=n_estimators, colsample=colsample,\n",
    "                        #                                       subsample=subsample, base_model=base_model, max_depth=max_depth)\n",
    "                        # my_clf.fit(X_train, y_train)\n",
    "                        # scores[(loss, learning_rate, n_estimators, colsample, subsample, max_depth)] = accuracy_score(my_clf.predict(X_test), y_test)\n",
    "                        # print(len(scores), end=' ')\n",
    "\n",
    "# for loss, learning_rate, n_estimators, colsample, subsample, max_depth in tqdm(params):\n",
    "#     base_model=DecisionTreeRegressor\n",
    "#     my_clf = MyGradientBoostingClassifier(loss=loss, learning_rate=learning_rate, n_estimators=n_estimators, colsample=colsample,\n",
    "#                                             subsample=subsample, base_model=base_model, max_depth=max_depth)\n",
    "#     my_clf.fit(X_train, y_train)\n",
    "#     scores[(loss, learning_rate, n_estimators, colsample, subsample, max_depth)] = accuracy_score(my_clf.predict(X_test), y_test)\n",
    "                        \n",
    "def train_with_params(data):\n",
    "    loss, learning_rate, n_estimators, colsample, subsample, max_depth = data\n",
    "    base_model=DecisionTreeRegressor\n",
    "    my_clf = MyGradientBoostingClassifier(loss=loss, learning_rate=learning_rate, n_estimators=n_estimators,\n",
    "                                            colsample=colsample, subsample=subsample, base_model=base_model, max_depth=max_depth)\n",
    "    my_clf.fit(X_train, y_train)\n",
    "    return (accuracy_score(my_clf.predict(X_test), y_test), loss, learning_rate, n_estimators, colsample, subsample, max_depth)\n",
    "\n",
    "with ThreadPool(4) as p:\n",
    "    tmp = []\n",
    "    for _ in tqdm(p.imap_unordered(train_with_params, params), total=len(params)):\n",
    "        tmp.append(_)\n",
    "        \n",
    "for v in tmp:\n",
    "    scores[(v[1], v[2], v[3], v[4], v[5], v[6])] = v[0]\n",
    "# scores\n",
    "# for n in xs:\n",
    "#     my_clf = MyGradientBoostingClassifier(n_estimators=n)#max_depth=3)\n",
    "#     my_clf.fit(X_train, y_train, DecisionTreeRegressor)\n",
    "#     ys.append(accuracy_score(y_pred=my_clf.predict(X_test), y_true=y_test))\n",
    "# plt.plot(xs, ys)"
   ]
  },
  {
   "cell_type": "code",
   "execution_count": 10,
   "metadata": {},
   "outputs": [
    {
     "name": "stdout",
     "output_type": "stream",
     "text": [
      "0.8982558139534884 ('log-loss', 0.1, 50, 0.7, 0.9, 13)\n"
     ]
    }
   ],
   "source": [
    "best_params = max(scores, key=lambda x:scores[x])\n",
    "print(scores[best_params], best_params)"
   ]
  },
  {
   "cell_type": "code",
   "execution_count": 11,
   "metadata": {},
   "outputs": [
    {
     "data": {
      "image/png": "[encoded data removed]",
      "text/plain": [
       "<Figure size 640x480 with 1 Axes>"
      ]
     },
     "metadata": {},
     "output_type": "display_data"
    }
   ],
   "source": [
    "pts = []\n",
    "for param in params:\n",
    "    if(sum([param[i]==best_params[i] for i in [0,1,3,4,5]])==5):\n",
    "        pts.append((param[2], scores[param]))\n",
    "pts.sort()\n",
    "plt.plot([p[0] for p in pts], [p[1] for p in pts])\n",
    "plt.title(\"Best params: loss={0}, learning_rate={1}, n_estimators={2}, colsample={3}, subsample={4}, max_depth={5}\".format(*best_params))\n",
    "plt.xticks([p[0] for p in pts])\n",
    "plt.yticks([p[1] for p in pts]);"
   ]
  },
  {
   "cell_type": "markdown",
   "metadata": {},
   "source": [
    "## BooBag BagBoo (1 балл)\n",
    "\n"
   ]
  },
  {
   "cell_type": "markdown",
   "metadata": {},
   "source": [
    "Попробуем объединить бустинг и бэгинг. Давайте\n",
    "\n",
    "1) в качестве базовой модели брать не дерево решений, а случайный лес (из sklearn)\n",
    "\n",
    "2) обучать N бустингов на бустрапированной выборке, а затем предикт усреднять"
   ]
  },
  {
   "cell_type": "markdown",
   "metadata": {},
   "source": [
    "Попробуйте обе этих стратегии на данных из прошлого задания. Получилось ли улучшить качество? Почему?"
   ]
  },
  {
   "cell_type": "code",
   "execution_count": 12,
   "metadata": {
    "tags": []
   },
   "outputs": [
    {
     "name": "stdout",
     "output_type": "stream",
     "text": [
      "0.8502906976744186\n",
      "CPU times: total: 2min 56s\n",
      "Wall time: 3min 8s\n"
     ]
    }
   ],
   "source": [
    "%%time\n",
    "loss, learning_rate, n_estimators, colsample, subsample, max_depth = best_params\n",
    "my_clf = MyGradientBoostingClassifier(loss=loss, learning_rate=learning_rate, n_estimators=20,\n",
    "                                        colsample=colsample, subsample=subsample, base_model=RandomForestRegressor, max_depth=max_depth)\n",
    "my_clf.fit(X_train, y_train)\n",
    "print(accuracy_score(my_clf.predict(X_test), y_test))"
   ]
  },
  {
   "cell_type": "markdown",
   "metadata": {},
   "source": [
    "Для подхода 1 - качество немного упало, а сам алгоритм обучался значительно дольше. Ухудшение качества может объясняться тем, что каждый базовый алгоритм стал значительно сильнее, и bias предсказаний уменьшился за счёт увеличения variance. При суммировании предсказаний этих базовых алгоритмов, итоговый variance также возрос, что привело к ухудшению качества. Другими словами, каждый базовый алгоритм получился гораздо более переобученным, чем в решающих деревьях, и каждому последующему алгоритму становится всё сложнее исправлять ошибки предыдущих."
   ]
  },
  {
   "cell_type": "code",
   "execution_count": 13,
   "metadata": {
    "tags": []
   },
   "outputs": [
    {
     "name": "stdout",
     "output_type": "stream",
     "text": [
      "0.8556201550387597\n",
      "CPU times: total: 38.6 s\n",
      "Wall time: 38.9 s\n"
     ]
    }
   ],
   "source": [
    "%%time\n",
    "N = 10\n",
    "predict = []\n",
    "for i in range(N):\n",
    "    tr_ind = np.random.choice(np.arange(X_train.shape[0]), size=X_train.shape[0], replace=True)\n",
    "    my_clf = MyGradientBoostingClassifier(loss=loss, learning_rate=learning_rate, n_estimators=n_estimators,\n",
    "                                        colsample=colsample, subsample=subsample, base_model=DecisionTreeRegressor, max_depth=max_depth)\n",
    "    my_clf.fit(X_train[tr_ind], y_train[tr_ind])\n",
    "    predict.append(my_clf.predict(X_test))\n",
    "predict = np.sign(np.array(predict).mean(axis=0))\n",
    "print(accuracy_score(predict, y_test))"
   ]
  },
  {
   "cell_type": "markdown",
   "metadata": {},
   "source": [
    "Для 2 подхода также наблюдается небольшое падение качества, и значительно большее время обучения, чем для одного бустинга. Ухудшение качества может объясняться тем, что каждый бустинг обучался не на полной выборке, и, соответственно, его bias на тесте был выше, чем у одного бустинга, обучавшегося на всей тренировочной выборке. При усреднении предсказаний N бустингов, их bias усреднился, и остался выше, чем у одного бустинга, обучавшегося на всей тренировочной выборке, что и могло привести к ухудшению качества."
   ]
  },
  {
   "cell_type": "markdown",
   "metadata": {},
   "source": [
    "## Умная инициализация (1 балл)\n",
    "\n",
    "Попробуйте брать в качестве инициализации бустинга не константу, а какой-то алгоритм и уже от его предикта стартовать итерации бустинга. Попробуйте разные модели из sklearn: линейные модели, рандом форест, svm..\n",
    "\n",
    "Получилось ли улучшить качество? Почему?\n",
    "\n"
   ]
  },
  {
   "cell_type": "code",
   "execution_count": 22,
   "metadata": {
    "tags": []
   },
   "outputs": [
    {
     "name": "stdout",
     "output_type": "stream",
     "text": [
      "Model: None, accuracy=0.874515503875969\n",
      "Model: DecisionTreeRegressor(), accuracy=0.8488372093023255\n",
      "Model: RandomForestRegressor(), accuracy=0.8808139534883721\n",
      "Model: SVR(), accuracy=0.875484496124031\n"
     ]
    }
   ],
   "source": [
    "for init_model in [None, DecisionTreeRegressor(), RandomForestRegressor(), SVR()]:\n",
    "    my_clf = MyGradientBoostingClassifier(loss=loss, learning_rate=learning_rate, n_estimators=n_estimators,\n",
    "                                        colsample=colsample, subsample=subsample, base_model=DecisionTreeRegressor, max_depth=max_depth)\n",
    "    my_clf.fit(X_train, y_train, init_model=init_model)\n",
    "    print(f\"Model: {init_model}, accuracy={accuracy_score(my_clf.predict(X_test), y_test)}\")"
   ]
  },
  {
   "cell_type": "markdown",
   "metadata": {
    "jupyter": {
     "outputs_hidden": true
    }
   },
   "source": [
    "При инициализации бустинга предсказаниями модели DecisionTreeRegressor с параметрами по умолчанию, качество упало, вероятно, вследствие того, что эта модельпереобучилась на тренировочной выборке, и бустинг также переобучился исправлять предсказания первоначальной переобученной модели.\n",
    "\n",
    "При инициализации бустинга моделями RandomForestRegressor и SVR качество немного выросло. Это можно объяснить тем, что данные модели хорошо обобщили выборку, и не переобучились, что позволило улучшить качество по сравнению с инициализацией константой."
   ]
  },
  {
   "cell_type": "markdown",
   "metadata": {},
   "source": [
    "## Фидбек (бесценно)"
   ]
  },
  {
   "cell_type": "markdown",
   "metadata": {},
   "source": [
    "* Какие аспекты обучения  ансамблей Вам показались непонятными? Какое место стоит дополнительно объяснить?"
   ]
  },
  {
   "cell_type": "markdown",
   "metadata": {},
   "source": [
    "### Ваш ответ здесь"
   ]
  },
  {
   "cell_type": "markdown",
   "metadata": {},
   "source": [
    "* Здесь Вы можете оставить отзыв о этой домашней работе или о всем курсе."
   ]
  },
  {
   "cell_type": "markdown",
   "metadata": {},
   "source": [
    "### ВАШ ОТЗЫВ ЗДЕСЬ\n",
    "\n"
   ]
  },
  {
   "cell_type": "code",
   "execution_count": null,
   "metadata": {
    "collapsed": true,
    "jupyter": {
     "outputs_hidden": true
    }
   },
   "outputs": [],
   "source": []
  },
  {
   "cell_type": "code",
   "execution_count": null,
   "metadata": {
    "collapsed": true,
    "jupyter": {
     "outputs_hidden": true
    }
   },
   "outputs": [],
   "source": []
  }
 ],
 "metadata": {
  "anaconda-cloud": {},
  "kernelspec": {
   "display_name": "Python 3 (ipykernel)",
   "language": "python",
   "name": "python3"
  },
  "language_info": {
   "codemirror_mode": {
    "name": "ipython",
    "version": 3
   },
   "file_extension": ".py",
   "mimetype": "text/x-python",
   "name": "python",
   "nbconvert_exporter": "python",
   "pygments_lexer": "ipython3",
   "version": "3.8.16"
  }
 },
 "nbformat": 4,
 "nbformat_minor": 4
}
